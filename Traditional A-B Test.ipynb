{
 "cells": [
  {
   "cell_type": "code",
   "execution_count": 1,
   "metadata": {},
   "outputs": [
    {
     "name": "stdout",
     "output_type": "stream",
     "text": [
      "t:\t 5.983789749729437 p:\t 1.1650601670964988e-05\n",
      "t2:\t 5.983789749729436 p2:\t 1.165060167099302e-05\n"
     ]
    }
   ],
   "source": [
    "import numpy as np\n",
    "from scipy import stats\n",
    "\n",
    "N=10\n",
    "a=np.random.randn(N)+2 #10个正态分布,mean是2\n",
    "b=np.random.randn(N) #10个正态部分，mean是0\n",
    "#a 和 b的方差都是1\n",
    "\n",
    "var_a=a.var(ddof=1) #默认的是整体方差，我们需要样本方差，N-1,所以dof=1\n",
    "#https://docs.scipy.org/doc/numpy-1.15.0/reference/generated/numpy.var.html\n",
    "#ddof : int, optional\n",
    "#“Delta Degrees of Freedom”: the divisor used in the calculation is N -\n",
    "#ddof, where N represents the number of elements. By default ddof is zero.\n",
    "\n",
    "var_b=b.var(ddof=1)\n",
    "\n",
    "s=np.sqrt((var_a+var_b)/2)\n",
    "\n",
    "t=(a.mean()-b.mean())/(s*np.sqrt(2/N))\n",
    "\n",
    "df=2*N-2\n",
    "\n",
    "#the degrees of freedom for this test is N1+N2 − 2 where n is the number of participants in each group.\n",
    "p1=1-stats.t.cdf(t,df=df) ## 返回t(n)的概率密度函数在负无穷到x上的积分，也就是概率分布函数的值\n",
    "#p1(T>=t)=1-p(T<=t)\n",
    "#becasue it is a two tail analysis\n",
    "print (\"t:\\t\",t,\"p:\\t\",2*p1)\n",
    "\n",
    "\n",
    "t2,p2=stats.ttest_ind(a,b)\n",
    "print(\"t2:\\t\",t2,\"p2:\\t\",p2)\n",
    "\n",
    "#https://blog.csdn.net/m0_37777649/article/details/74938120"
   ]
  },
  {
   "cell_type": "code",
   "execution_count": 6,
   "metadata": {},
   "outputs": [
    {
     "name": "stdout",
     "output_type": "stream",
     "text": [
      "a.mean: 0.304\n",
      "b.mean: 0.372\n",
      "Variance Equal But Not Know\n",
      "t:\t -3.2211732138019786 p:\t 0.0012971905467125246\n",
      "Welch's t-test\n",
      "t:\t -3.2211732138019786 p:\t 0.0012972410374001632\n",
      "Manual Welch t-test\n",
      "t:\t -3.221173213801983 p:\t 0.001297241037400143\n"
     ]
    }
   ],
   "source": [
    "import numpy as np\n",
    "import pandas as pd\n",
    "from scipy import stats\n",
    "\n",
    "# get data\n",
    "df = pd.read_csv('advertisement_clicks.csv')\n",
    "a = df[df['advertisement_id'] == 'A']\n",
    "b = df[df['advertisement_id'] == 'B']\n",
    "a = a['action']\n",
    "b = b['action']\n",
    "\n",
    "print(\"a.mean:\", a.mean())\n",
    "print(\"b.mean:\", b.mean())\n",
    "\n",
    "#scipy.stats.ttest_ind(a, b, axis=0, equal_var=True, nan_policy='propagate')\n",
    "\n",
    "# built-in t-test:\n",
    "t, p = stats.ttest_ind(a, b)\n",
    "print(\"\"\"Variance Equal But Not Know\"\"\")\n",
    "print(\"t:\\t\", t, \"p:\\t\", p)\n",
    "\n",
    "#Calculate the T-test for the means of two independent samples of scores.\n",
    "#This is a two-sided test for the null hypothesis that 2 independent samples \n",
    "#have identical average (expected) values. This test assumes that the populations have identical variances by default.\n",
    "\n",
    "# welch's t-test: Unqueal variances\n",
    "t1, p1 = stats.ttest_ind(a, b, equal_var=False)\n",
    "print(\"\"\"Welch's t-test\"\"\")\n",
    "print(\"t:\\t\", t1, \"p:\\t\", p1)\n",
    "\n",
    "# welch's t-test manual:\n",
    "N1 = len(a)\n",
    "s1_sq = a.var()\n",
    "N2 = len(b)\n",
    "s2_sq = b.var()\n",
    "t3 = (a.mean() - b.mean()) / np.sqrt(s1_sq / N1 + s2_sq / N2)\n",
    "\n",
    "nu1 = N1 - 1\n",
    "nu2 = N2 - 1\n",
    "df = (s1_sq / N1 + s2_sq / N2)**2 / ( (s1_sq*s1_sq) / (N1*N1 * nu1) + (s2_sq*s2_sq) / (N2*N2 * nu2) )\n",
    "p3 = (1 - stats.t.cdf(np.abs(t), df=df))*2\n",
    "print(\"\"\"Manual Welch t-test\"\"\")\n",
    "print(\"t:\\t\", t3, \"p:\\t\", p3)"
   ]
  },
  {
   "cell_type": "code",
   "execution_count": 1,
   "metadata": {},
   "outputs": [
    {
     "name": "stdout",
     "output_type": "stream",
     "text": [
      "0.0013069502732125926\n",
      "chi2:\t 10.332683816299898\n",
      "p-value:\t 0.0013069502732125406\n",
      "degree of freedom:\t 1\n"
     ]
    }
   ],
   "source": [
    "#Chi Square Exceise\n",
    "#Pearson's chi-squared test\n",
    "#Determine wether the click-trouhg rate are significate diffrence \n",
    "#https://docs.scipy.org/doc/scipy-0.15.1/reference/generated/scipy.stats.chi2_contingency.html#scipy-stats-chi2-contingency\n",
    "\n",
    "import numpy as np\n",
    "import pandas as pd\n",
    "from scipy import stats\n",
    "\n",
    "def get_p_value(T):\n",
    "  # same as scipy.stats.chi2_contingency(T, correction=False)\n",
    "  det = T[0,0]*T[1,1] - T[0,1]*T[1,0]\n",
    "  c2 = (det**2)*T.sum() / (T[0].sum() *  T[1].sum() *  T[:,0].sum() * T[:,1].sum())\n",
    "  p = 1 - stats.chi2.cdf(x=c2, df=1)\n",
    "  return p\n",
    "\n",
    "\n",
    "# contingency table\n",
    "#        click       no click\n",
    "#------------------------------\n",
    "# ad A |   a            b\n",
    "# ad B |   c            d\n",
    "\n",
    "# get data\n",
    "df = pd.read_csv('advertisement_clicks.csv')\n",
    "a = df[df['advertisement_id'] == 'A']\n",
    "b = df[df['advertisement_id'] == 'B']\n",
    "a = a['action']\n",
    "b = b['action']\n",
    "\n",
    "A_clk = a.sum()\n",
    "A_noclk = a.size - a.sum()\n",
    "B_clk = b.sum()\n",
    "B_noclk = b.size - b.sum()\n",
    "\n",
    "T = np.array([[A_clk, A_noclk], [B_clk, B_noclk]])\n",
    "\n",
    "#P-value\n",
    "print(get_p_value(T))\n",
    "\n",
    "chi2, p2, dof, ex=stats.chi2_contingency(observed=T,correction=False)\n",
    "#if Set as True, it use Yates's correction for continuity\n",
    "#https://en.wikipedia.org/wiki/Yates%27s_correction_for_continuity\n",
    "print(\"chi2:\\t\", chi2)\n",
    "print(\"p-value:\\t\", p2)\n",
    "print(\"degree of freedom:\\t\",dof)\n"
   ]
  },
  {
   "cell_type": "code",
   "execution_count": 57,
   "metadata": {},
   "outputs": [
    {
     "data": {
      "image/png": "[encoded data removed]",
      "text/plain": [
       "<Figure size 1080x216 with 1 Axes>"
      ]
     },
     "metadata": {},
     "output_type": "display_data"
    }
   ],
   "source": [
    "import numpy as np\n",
    "import matplotlib.pyplot as plt\n",
    "from scipy.stats import chi2, chi2_contingency\n",
    "\n",
    "# contingency table\n",
    "#        click       no click\n",
    "#------------------------------\n",
    "# ad A |   a            b\n",
    "# ad B |   c            d\n",
    "#\n",
    "# chi^2 = (ad - bc)^2 (a + b + c + d) / [ (a + b)(c + d)(a + c)(b + d)]\n",
    "# degrees of freedom = (#cols - 1) x (#rows - 1) = (2 - 1)(2 - 1) = 1\n",
    "\n",
    "# short example\n",
    "\n",
    "# T = np.array([[36, 14], [30, 25]])\n",
    "# c2 = np.linalg.det(T)**2 * T.sum() / ( T[0].sum()*T[1].sum()*T[:,0].sum()*T[:,1].sum() )\n",
    "# p_value = 1 - chi2.cdf(x=c2, df=1)\n",
    "\n",
    "# equivalent:\n",
    "# (36-31.429)**2/31.429+(14-18.571)**2/18.571 + (30-34.571)**2/34.571 + (25-20.429)**2/20.429\n",
    "\n",
    "\n",
    "class DataGenerator:\n",
    "  def __init__(self, p1, p2):\n",
    "    self.p1 = p1\n",
    "    self.p2 = p2\n",
    "    \n",
    " #P1 P2 is a click rate for group 1 and gourp 2   \n",
    "\n",
    "  def next(self):\n",
    "    click1 = 1 if (np.random.random() < self.p1) else 0 #每个一个人进来，如果这个random小于p，就是不click\n",
    "    click2 = 1 if (np.random.random() < self.p2) else 0\n",
    "    return click1, click2\n",
    "\n",
    "def get_p_value(T):\n",
    "    p=chi2_contingency(T, correction=False)[1]\n",
    "    return p\n",
    "\n",
    "def run_experiment(p1, p2, N):\n",
    "  data = DataGenerator(p1, p2)\n",
    "  p_values = np.empty(N) #创造一个2000个的空array来存储p-value\n",
    "  T = np.zeros((2, 2)).astype(np.float32)\n",
    "  for i in range(N):\n",
    "    c1, c2 = data.next()\n",
    "    T[0,c1] += 1\n",
    "    T[1,c2] += 1\n",
    "    # ignore the first 10 values\n",
    "    if i < 10:\n",
    "      p_values[i] = None\n",
    "    else:\n",
    "      p_values[i] = get_p_value(T)\n",
    "  plt.figure(figsize=(15,3))\n",
    "  plt.plot(p_values)\n",
    "  plt.plot(np.ones(N)*0.05)\n",
    "  #Return a new array of given shape and type, filled with ones, 2000个1，都乘以0.05\n",
    "  plt.ylabel('P-Value')\n",
    "  plt.show()\n",
    "\n",
    "run_experiment(0.1, 0.11, 20000)"
   ]
  },
  {
   "cell_type": "code",
   "execution_count": null,
   "metadata": {},
   "outputs": [],
   "source": []
  },
  {
   "cell_type": "code",
   "execution_count": null,
   "metadata": {},
   "outputs": [],
   "source": []
  }
 ],
 "metadata": {
  "kernelspec": {
   "display_name": "Python 3",
   "language": "python",
   "name": "python3"
  },
  "language_info": {
   "codemirror_mode": {
    "name": "ipython",
    "version": 3
   },
   "file_extension": ".py",
   "mimetype": "text/x-python",
   "name": "python",
   "nbconvert_exporter": "python",
   "pygments_lexer": "ipython3",
   "version": "3.6.5"
  }
 },
 "nbformat": 4,
 "nbformat_minor": 2
}
